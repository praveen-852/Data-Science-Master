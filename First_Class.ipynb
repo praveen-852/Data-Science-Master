{
 "cells": [
  {
   "cell_type": "code",
   "execution_count": 1,
   "id": "c870c294-1a39-4b12-a7d6-9d620080e466",
   "metadata": {},
   "outputs": [],
   "source": [
    "a=10"
   ]
  },
  {
   "cell_type": "code",
   "execution_count": 2,
   "id": "148413ea-680f-4b4f-b184-f5d2e2c02c60",
   "metadata": {},
   "outputs": [
    {
     "data": {
      "text/plain": [
       "10"
      ]
     },
     "execution_count": 2,
     "metadata": {},
     "output_type": "execute_result"
    }
   ],
   "source": [
    "a"
   ]
  },
  {
   "cell_type": "markdown",
   "id": "589116fc-0f7a-44c4-8f1f-dc8deb44c915",
   "metadata": {
    "tags": []
   },
   "source": [
    "## This is the intro session\n",
    "\n",
    "### Welcome to Data Science Batch\n",
    "\n",
    "This the test example"
   ]
  },
  {
   "cell_type": "code",
   "execution_count": 7,
   "id": "1ae04779-c581-4f3a-8f40-ebe6dee90876",
   "metadata": {},
   "outputs": [
    {
     "data": {
      "text/plain": [
       "20"
      ]
     },
     "execution_count": 7,
     "metadata": {},
     "output_type": "execute_result"
    }
   ],
   "source": [
    "## for single line comment we use double ##\n",
    "\n",
    "\"\"\" \n",
    "Hello this is the multiline comments\n",
    "\n",
    "\"\"\"\n",
    "\n",
    "a=20\n",
    "a"
   ]
  },
  {
   "cell_type": "markdown",
   "id": "92b1826e-8afa-4b13-b9a1-7e71421d49c4",
   "metadata": {},
   "source": [
    "### Numbers "
   ]
  },
  {
   "cell_type": "code",
   "execution_count": 11,
   "id": "98579b33-2fee-48d5-9d1d-1509341060e7",
   "metadata": {},
   "outputs": [
    {
     "name": "stdout",
     "output_type": "stream",
     "text": [
      "4\n"
     ]
    }
   ],
   "source": [
    "print(1+3)"
   ]
  },
  {
   "cell_type": "code",
   "execution_count": 16,
   "id": "33eef901-f40a-4fb3-8773-f15125b8c1eb",
   "metadata": {},
   "outputs": [
    {
     "name": "stdout",
     "output_type": "stream",
     "text": [
      "Hello World \n",
      "I am Praveen Patel\n"
     ]
    }
   ],
   "source": [
    "print(\"Hello World \\nI am Praveen Patel\")"
   ]
  },
  {
   "cell_type": "markdown",
   "id": "ad656995-ca92-4cf9-b812-af7daf162953",
   "metadata": {},
   "source": [
    "### Virable Assignment"
   ]
  },
  {
   "cell_type": "code",
   "execution_count": 18,
   "id": "5cb24b66-0a99-4422-84ea-b6291a8dc7ca",
   "metadata": {},
   "outputs": [],
   "source": [
    "Name= \" Praveen\"\n",
    "city = \"Dewas\""
   ]
  },
  {
   "cell_type": "code",
   "execution_count": 31,
   "id": "f9a2acba-7ca7-499b-9820-316ff3732f75",
   "metadata": {},
   "outputs": [
    {
     "data": {
      "text/plain": [
       "str"
      ]
     },
     "execution_count": 31,
     "metadata": {},
     "output_type": "execute_result"
    }
   ],
   "source": [
    "type(\"\")\n",
    "type(Name)   ### string class"
   ]
  },
  {
   "cell_type": "code",
   "execution_count": 20,
   "id": "67beab67-9fb0-4bdd-a35c-1d647a991dcf",
   "metadata": {},
   "outputs": [],
   "source": [
    "Name = \"Patel\""
   ]
  },
  {
   "cell_type": "code",
   "execution_count": 19,
   "id": "55955c1e-5069-43bd-8a7e-779286d6a551",
   "metadata": {},
   "outputs": [
    {
     "data": {
      "text/plain": [
       "'Dewas'"
      ]
     },
     "execution_count": 19,
     "metadata": {},
     "output_type": "execute_result"
    }
   ],
   "source": [
    "city"
   ]
  },
  {
   "cell_type": "code",
   "execution_count": 22,
   "id": "ce21794b-6d88-4710-857a-c1bd161a14fc",
   "metadata": {},
   "outputs": [
    {
     "data": {
      "text/plain": [
       "'Patel'"
      ]
     },
     "execution_count": 22,
     "metadata": {},
     "output_type": "execute_result"
    }
   ],
   "source": [
    "Name"
   ]
  },
  {
   "cell_type": "code",
   "execution_count": 25,
   "id": "f0654979-2764-4ddf-97c3-27c1a5a7024f",
   "metadata": {},
   "outputs": [
    {
     "name": "stdout",
     "output_type": "stream",
     "text": [
      "Patel Dewas\n"
     ]
    }
   ],
   "source": [
    "print(Name, city)\n"
   ]
  },
  {
   "cell_type": "code",
   "execution_count": 32,
   "id": "83bccd6f-0356-491f-83d4-23dcae24e362",
   "metadata": {},
   "outputs": [
    {
     "data": {
      "text/plain": [
       "float"
      ]
     },
     "execution_count": 32,
     "metadata": {},
     "output_type": "execute_result"
    }
   ],
   "source": [
    "decimal_num = 2.5\n",
    "\n",
    "type(decimal_num)"
   ]
  },
  {
   "cell_type": "code",
   "execution_count": 33,
   "id": "77446bd2-be0b-4373-a9b0-6dbfc1190233",
   "metadata": {},
   "outputs": [
    {
     "data": {
      "text/plain": [
       "complex"
      ]
     },
     "execution_count": 33,
     "metadata": {},
     "output_type": "execute_result"
    }
   ],
   "source": [
    "type(1+2j)"
   ]
  },
  {
   "cell_type": "code",
   "execution_count": null,
   "id": "141a3312-441d-47ce-86ec-e3fc1c62f2e6",
   "metadata": {},
   "outputs": [],
   "source": [
    "### Reserved Keyboard\n",
    "\n",
    "'''\n",
    "int, float, len, complex, bool, str, return, yield etc.\n",
    "\n",
    "'''"
   ]
  },
  {
   "cell_type": "code",
   "execution_count": 35,
   "id": "86474208-74eb-4445-bdfb-1b4cefe968ce",
   "metadata": {},
   "outputs": [
    {
     "data": {
      "text/plain": [
       "False"
      ]
     },
     "execution_count": 35,
     "metadata": {},
     "output_type": "execute_result"
    }
   ],
   "source": [
    "### boolean\n",
    "\n",
    "True and False\n"
   ]
  },
  {
   "cell_type": "code",
   "execution_count": 36,
   "id": "6ffc13d3-49e0-4f43-a40b-1ba8afe38693",
   "metadata": {},
   "outputs": [
    {
     "data": {
      "text/plain": [
       "bool"
      ]
     },
     "execution_count": 36,
     "metadata": {},
     "output_type": "execute_result"
    }
   ],
   "source": [
    "type(True)"
   ]
  },
  {
   "cell_type": "code",
   "execution_count": 42,
   "id": "745dacf5-da8d-48fe-9e59-635bcb7da07d",
   "metadata": {},
   "outputs": [
    {
     "data": {
      "text/plain": [
       "False"
      ]
     },
     "execution_count": 42,
     "metadata": {},
     "output_type": "execute_result"
    }
   ],
   "source": [
    "### typecasting\n",
    "bool(0)"
   ]
  },
  {
   "cell_type": "code",
   "execution_count": 38,
   "id": "7043546b-87f6-436d-96f5-4209f20d1f7f",
   "metadata": {},
   "outputs": [
    {
     "data": {
      "text/plain": [
       "True"
      ]
     },
     "execution_count": 38,
     "metadata": {},
     "output_type": "execute_result"
    }
   ],
   "source": [
    "bool(1)"
   ]
  },
  {
   "cell_type": "code",
   "execution_count": 47,
   "id": "12d51014-25ca-4a25-bd1b-ce93c37a185d",
   "metadata": {},
   "outputs": [],
   "source": [
    "b=str(23) ### converted string into int."
   ]
  },
  {
   "cell_type": "code",
   "execution_count": 44,
   "id": "f04155f0-6869-41b1-be62-14c46a6e4573",
   "metadata": {},
   "outputs": [],
   "source": [
    "a=int('23')"
   ]
  },
  {
   "cell_type": "code",
   "execution_count": 46,
   "id": "96b25277-398e-4e2f-bebb-6aec7e243df2",
   "metadata": {},
   "outputs": [
    {
     "data": {
      "text/plain": [
       "int"
      ]
     },
     "execution_count": 46,
     "metadata": {},
     "output_type": "execute_result"
    }
   ],
   "source": [
    "type(a)"
   ]
  },
  {
   "cell_type": "code",
   "execution_count": 48,
   "id": "206e1991-309c-4146-97ed-2ba0d3e94f4e",
   "metadata": {},
   "outputs": [
    {
     "data": {
      "text/plain": [
       "str"
      ]
     },
     "execution_count": 48,
     "metadata": {},
     "output_type": "execute_result"
    }
   ],
   "source": [
    "type(b)"
   ]
  },
  {
   "cell_type": "markdown",
   "id": "7ed540db-ca3e-4b4a-b741-0b8cb95c17a4",
   "metadata": {},
   "source": [
    "### Dynamic Typing"
   ]
  },
  {
   "cell_type": "code",
   "execution_count": 49,
   "id": "c30fd2a5-8d58-44d5-a75b-f36b37abc336",
   "metadata": {},
   "outputs": [],
   "source": [
    "a=12\n",
    "str1 = \"Praveen\"\n",
    "a=\"Var\""
   ]
  },
  {
   "cell_type": "code",
   "execution_count": 50,
   "id": "47ef3f92-35b4-4753-ba6c-4c3d275a1aab",
   "metadata": {},
   "outputs": [
    {
     "name": "stdout",
     "output_type": "stream",
     "text": [
      "<class 'str'>\n"
     ]
    }
   ],
   "source": [
    "print(type(a))"
   ]
  },
  {
   "cell_type": "code",
   "execution_count": 52,
   "id": "95f079bd-6108-4ee1-9e7a-c0cbde103caa",
   "metadata": {},
   "outputs": [
    {
     "data": {
      "text/plain": [
       "int"
      ]
     },
     "execution_count": 52,
     "metadata": {},
     "output_type": "execute_result"
    }
   ],
   "source": [
    "type(int(1.54))"
   ]
  },
  {
   "cell_type": "markdown",
   "id": "2ec22075-15ca-46f7-8fa9-1da5cf9da9d0",
   "metadata": {},
   "source": [
    "## Concatenation between differnet type"
   ]
  },
  {
   "cell_type": "code",
   "execution_count": 53,
   "id": "bee8135f-f0b2-4bb2-951a-eb40494e5162",
   "metadata": {},
   "outputs": [
    {
     "data": {
      "text/plain": [
       "'11'"
      ]
     },
     "execution_count": 53,
     "metadata": {},
     "output_type": "execute_result"
    }
   ],
   "source": [
    "\"1\" + \"1\""
   ]
  },
  {
   "cell_type": "code",
   "execution_count": 54,
   "id": "664988e8-dd76-4bab-91b0-47d201f233cb",
   "metadata": {},
   "outputs": [
    {
     "data": {
      "text/plain": [
       "2"
      ]
     },
     "execution_count": 54,
     "metadata": {},
     "output_type": "execute_result"
    }
   ],
   "source": [
    "int(\"1\") + int(\"1\")"
   ]
  },
  {
   "cell_type": "code",
   "execution_count": 56,
   "id": "5f500274-41b5-4080-bdb4-4ba7e177d4f6",
   "metadata": {},
   "outputs": [
    {
     "ename": "TypeError",
     "evalue": "unsupported operand type(s) for +: 'int' and 'str'",
     "output_type": "error",
     "traceback": [
      "\u001b[0;31m---------------------------------------------------------------------------\u001b[0m",
      "\u001b[0;31mTypeError\u001b[0m                                 Traceback (most recent call last)",
      "Cell \u001b[0;32mIn[56], line 1\u001b[0m\n\u001b[0;32m----> 1\u001b[0m \u001b[38;5;28;43mint\u001b[39;49m\u001b[43m(\u001b[49m\u001b[38;5;124;43m\"\u001b[39;49m\u001b[38;5;124;43m1\u001b[39;49m\u001b[38;5;124;43m\"\u001b[39;49m\u001b[43m)\u001b[49m\u001b[43m \u001b[49m\u001b[38;5;241;43m+\u001b[39;49m\u001b[43m \u001b[49m\u001b[38;5;124;43m\"\u001b[39;49m\u001b[38;5;124;43m1\u001b[39;49m\u001b[38;5;124;43m\"\u001b[39;49m  \u001b[38;5;66;03m### does not happen bcz of differnt data type\u001b[39;00m\n",
      "\u001b[0;31mTypeError\u001b[0m: unsupported operand type(s) for +: 'int' and 'str'"
     ]
    }
   ],
   "source": [
    "int(\"1\") + \"1\"  ### does not happen bcz of differnt data type"
   ]
  },
  {
   "cell_type": "code",
   "execution_count": 58,
   "id": "a4cfa472-0e56-4f16-aef5-0613fab75fd7",
   "metadata": {},
   "outputs": [
    {
     "data": {
      "text/plain": [
       "'1111111111111111111111111111111111111111111111111111111111111111111111111111111111111111111111111111'"
      ]
     },
     "execution_count": 58,
     "metadata": {},
     "output_type": "execute_result"
    }
   ],
   "source": [
    "\"1\" * 100"
   ]
  },
  {
   "cell_type": "code",
   "execution_count": null,
   "id": "76c6e87b-d02a-4710-ba5e-4dea483ab43f",
   "metadata": {},
   "outputs": [],
   "source": []
  }
 ],
 "metadata": {
  "kernelspec": {
   "display_name": "Python 3 (ipykernel)",
   "language": "python",
   "name": "python3"
  },
  "language_info": {
   "codemirror_mode": {
    "name": "ipython",
    "version": 3
   },
   "file_extension": ".py",
   "mimetype": "text/x-python",
   "name": "python",
   "nbconvert_exporter": "python",
   "pygments_lexer": "ipython3",
   "version": "3.10.8"
  }
 },
 "nbformat": 4,
 "nbformat_minor": 5
}
