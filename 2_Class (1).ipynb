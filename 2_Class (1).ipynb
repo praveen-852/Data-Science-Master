{
 "cells": [
  {
   "cell_type": "code",
   "execution_count": 2,
   "id": "abc506cb-35c3-4950-8161-bfa0ddfc50f5",
   "metadata": {},
   "outputs": [],
   "source": [
    "a=10"
   ]
  },
  {
   "cell_type": "code",
   "execution_count": 3,
   "id": "c85f49e6-50d4-4ee5-b583-313599109cd9",
   "metadata": {},
   "outputs": [],
   "source": [
    "a=\"c\""
   ]
  },
  {
   "cell_type": "code",
   "execution_count": 4,
   "id": "ea2f3893-77e7-4ef9-af01-1124aca334ac",
   "metadata": {},
   "outputs": [
    {
     "data": {
      "text/plain": [
       "str"
      ]
     },
     "execution_count": 4,
     "metadata": {},
     "output_type": "execute_result"
    }
   ],
   "source": [
    "type(a)"
   ]
  },
  {
   "cell_type": "code",
   "execution_count": 6,
   "id": "241c4eca-faf5-43ea-bf97-cf939d177ef9",
   "metadata": {},
   "outputs": [
    {
     "name": "stdout",
     "output_type": "stream",
     "text": [
      "123\n"
     ]
    }
   ],
   "source": [
    "print(123)"
   ]
  },
  {
   "cell_type": "markdown",
   "id": "2137b3bc-af30-4d52-88ca-92b1a2a17902",
   "metadata": {},
   "source": [
    "# Different print usage.\n"
   ]
  },
  {
   "cell_type": "code",
   "execution_count": 1,
   "id": "3b10fb87-bc99-4f8d-b5c2-c6b9065158ec",
   "metadata": {},
   "outputs": [
    {
     "name": "stdout",
     "output_type": "stream",
     "text": [
      "My age is: 25\n"
     ]
    }
   ],
   "source": [
    "age = 25\n",
    "print(\"My age is:\",age)"
   ]
  },
  {
   "cell_type": "code",
   "execution_count": 14,
   "id": "f7af02c8-9214-4cc3-b6da-6b9f04138cd0",
   "metadata": {},
   "outputs": [
    {
     "name": "stdout",
     "output_type": "stream",
     "text": [
      "My age is:25\n"
     ]
    }
   ],
   "source": [
    "print(f\"My age is:{age}\")  ### \"f\" is use for formatting also called as f string."
   ]
  },
  {
   "cell_type": "code",
   "execution_count": 16,
   "id": "0215849b-1259-47c9-8469-4d48af01eb82",
   "metadata": {},
   "outputs": [
    {
     "name": "stdout",
     "output_type": "stream",
     "text": [
      "My name is Praveen and age is 25\n",
      "My name is 25 and age is Praveen\n"
     ]
    }
   ],
   "source": [
    "## format()\n",
    "name = \"Praveen\"\n",
    "age = 25\n",
    "print(\"My name is {} and age is {}\".format(name,age))\n",
    "print(\"My name is {} and age is {}\".format(age,name))"
   ]
  },
  {
   "cell_type": "code",
   "execution_count": 19,
   "id": "dc288daf-ec68-42b5-a637-bfb9e22a6774",
   "metadata": {},
   "outputs": [
    {
     "name": "stdout",
     "output_type": "stream",
     "text": [
      "My name is Praveen and age is 25\n",
      "My name is Praveen and age is 25\n"
     ]
    }
   ],
   "source": [
    "## placeholder\n",
    "print(\"My name is {firstname} and age is {firstage}\".format(firstname=name,firstage=age))\n",
    "print(\"My name is {firstname} and age is {firstage}\".format(firstage=age,firstname=name))"
   ]
  },
  {
   "cell_type": "code",
   "execution_count": 24,
   "id": "61b7e914-12da-46ec-84eb-9d54b1d76785",
   "metadata": {},
   "outputs": [
    {
     "name": "stdout",
     "output_type": "stream",
     "text": [
      "My age is 25 and i have completed: my degree of BE the name of Praveen\n"
     ]
    }
   ],
   "source": [
    "name = \"Praveen\"\n",
    "age = 25\n",
    "degree = \"BE\"\n",
    "\n",
    "##\"My age is 25 and i have completed: my degree of BE the name of Praveen\"   ## output sould come in this form.\n",
    "\n",
    "print(\"My age is {} and i have completed: my degree of {} the name of {}\".format(age,degree,name))"
   ]
  },
  {
   "cell_type": "markdown",
   "id": "9c9113ee-3092-44ec-b3ee-804599e4ed57",
   "metadata": {},
   "source": [
    "## Control Flow\n",
    "### Decision making statements\n",
    "1. if\n",
    "2. if else\n",
    "3. if elif else\n",
    "4. Nested if\n",
    "5. Single statement suites"
   ]
  },
  {
   "cell_type": "code",
   "execution_count": 26,
   "id": "d95af9d0-53f3-4fef-9c01-5c531af24615",
   "metadata": {},
   "outputs": [
    {
     "name": "stdout",
     "output_type": "stream",
     "text": [
      "Your are eligible to vote\n"
     ]
    }
   ],
   "source": [
    "## if statements\n",
    "\n",
    "age = 18 \n",
    "if age >= 18:\n",
    "    print(\"Your are eligible to vote\")"
   ]
  },
  {
   "cell_type": "code",
   "execution_count": 28,
   "id": "de827dba-94fe-4bfc-86ac-80493b4e57f9",
   "metadata": {},
   "outputs": [
    {
     "name": "stdin",
     "output_type": "stream",
     "text": [
      "ENTER YOUR NAME Praveen Patel\n"
     ]
    }
   ],
   "source": [
    "NAME = input(\"ENTER YOUR NAME\")"
   ]
  },
  {
   "cell_type": "code",
   "execution_count": 29,
   "id": "3cb0614e-1858-4747-a30f-a1a885f748da",
   "metadata": {},
   "outputs": [
    {
     "data": {
      "text/plain": [
       "'Praveen Patel'"
      ]
     },
     "execution_count": 29,
     "metadata": {},
     "output_type": "execute_result"
    }
   ],
   "source": [
    "NAME"
   ]
  },
  {
   "cell_type": "code",
   "execution_count": 30,
   "id": "9db9d3cc-81cf-4d9b-b4e7-0854a4b48d9a",
   "metadata": {},
   "outputs": [
    {
     "name": "stdin",
     "output_type": "stream",
     "text": [
      "Enter your Age 25\n"
     ]
    }
   ],
   "source": [
    "age = int(input(\"Enter your Age\"))"
   ]
  },
  {
   "cell_type": "code",
   "execution_count": 33,
   "id": "3af74388-c244-4769-9db6-243182b9686d",
   "metadata": {},
   "outputs": [
    {
     "name": "stdout",
     "output_type": "stream",
     "text": [
      "25\n"
     ]
    },
    {
     "data": {
      "text/plain": [
       "int"
      ]
     },
     "execution_count": 33,
     "metadata": {},
     "output_type": "execute_result"
    }
   ],
   "source": [
    "print(age)\n",
    "type(age)"
   ]
  },
  {
   "cell_type": "code",
   "execution_count": 34,
   "id": "8bfb2af2-798a-4e97-bedf-5eddf16c4187",
   "metadata": {},
   "outputs": [],
   "source": [
    "## task \n",
    "## take the input of age\n",
    "## check whether age >= 18 and age <=45\n",
    "## display a msg \"you are young blood\""
   ]
  },
  {
   "cell_type": "code",
   "execution_count": 35,
   "id": "ab973c83-2585-444a-ae31-61bb78b6659b",
   "metadata": {},
   "outputs": [
    {
     "name": "stdin",
     "output_type": "stream",
     "text": [
      "Enter you age 25\n"
     ]
    },
    {
     "name": "stdout",
     "output_type": "stream",
     "text": [
      "You are young blood\n"
     ]
    }
   ],
   "source": [
    "age = int(input(\"Enter you age\"))\n",
    "if age >=18 and age <= 45:\n",
    "    print(\"You are young blood\")"
   ]
  },
  {
   "cell_type": "code",
   "execution_count": 36,
   "id": "b2c2dd9a-279f-4693-b56e-5f583a65f2bc",
   "metadata": {},
   "outputs": [
    {
     "name": "stdin",
     "output_type": "stream",
     "text": [
      "Enter you age 55\n"
     ]
    }
   ],
   "source": [
    "age = int(input(\"Enter you age\"))\n",
    "if age >=18 and age <= 45:\n",
    "    print(\"You are young blood\")\n",
    "    "
   ]
  },
  {
   "cell_type": "code",
   "execution_count": 39,
   "id": "8efcba63-f616-45aa-ac34-86d2909d6b9e",
   "metadata": {},
   "outputs": [
    {
     "name": "stdin",
     "output_type": "stream",
     "text": [
      "Enter you age 15\n"
     ]
    },
    {
     "name": "stdout",
     "output_type": "stream",
     "text": [
      "Thank you we will let you know\n"
     ]
    }
   ],
   "source": [
    "## if else.\n",
    "\n",
    "age = int(input(\"Enter you age\"))\n",
    "if age >=18 and age <= 45:\n",
    "    print(\"You are young blood\")\n",
    "else:\n",
    "    print(\"Thank you we will let you know\")"
   ]
  },
  {
   "cell_type": "code",
   "execution_count": 42,
   "id": "0f8cb960-8aa5-4e7f-a9f2-09a357ea38da",
   "metadata": {},
   "outputs": [
    {
     "name": "stdin",
     "output_type": "stream",
     "text": [
      "Enter the Product Price 1000\n"
     ]
    },
    {
     "name": "stdout",
     "output_type": "stream",
     "text": [
      "The Price of Product is 700.0\n"
     ]
    }
   ],
   "source": [
    "## TASK\n",
    "\n",
    "## Mall - input the product price\n",
    "## product  > 1000 rs 20 % off\n",
    "## print the product price\n",
    "## product <= 1000 rs 30 % off\n",
    "## print the product price\n",
    "\n",
    "\n",
    "price=int(input(\"Enter the Product Price\"))\n",
    "if price > 1000:\n",
    "    print(\"The Price of Product is {}\".format(price*0.8))\n",
    "else:\n",
    "    print(\"The Price of Product is {}\".format(price*0.7))\n"
   ]
  },
  {
   "cell_type": "code",
   "execution_count": 17,
   "id": "4f797468-234d-4d0c-bf8e-f34f299e3629",
   "metadata": {},
   "outputs": [
    {
     "name": "stdin",
     "output_type": "stream",
     "text": [
      "Enter the Product Price 2000\n"
     ]
    },
    {
     "name": "stdout",
     "output_type": "stream",
     "text": [
      "The Price of Product is 1400.0\n"
     ]
    }
   ],
   "source": [
    "## TASK\n",
    "\n",
    "## Mall - input the product price\n",
    "## product  > 3000 rs 20 % off\n",
    "## price is grater then 4000 then you get trip to goa \n",
    "## print the product price\n",
    "## product  >= 2000 rs and <=3000 30 % off\n",
    "## print the product price\n",
    "## if the product price is 2999 then you get a additional gift.\n",
    "## product <= 1000 rs and <=2000  40 % off\n",
    "## print the product price\n",
    "\n",
    "price=int(input(\"Enter the Product Price\"))\n",
    "if price > 3000:\n",
    "    if price <=4000:\n",
    "        print(\"You get a trip to goa\")\n",
    "    print(\"The Price of Product is {}\".format(price*0.8))\n",
    "elif price >=2000 and price <= 3000:\n",
    "    if price == 2999:                                      ## this is called nested if\n",
    "        print(\"Congratulation you get a additional gift\")\n",
    "    print(\"The Price of Product is {}\".format(price*0.7))\n",
    "else:\n",
    "    print(\"The Price of Product is {}\".format(price*0.6))"
   ]
  },
  {
   "cell_type": "markdown",
   "id": "d1fb20b6-48d2-4003-b3fd-a57a7189346f",
   "metadata": {},
   "source": [
    "## Loops Statemets\n",
    "\n",
    "1. While loop\n",
    "2. for loop\n",
    "3. nested loop\n",
    "4. loop control(Break, continue, pass) "
   ]
  },
  {
   "cell_type": "code",
   "execution_count": 6,
   "id": "7dab6bdf-4552-4d9e-8b30-ed56ea847249",
   "metadata": {},
   "outputs": [
    {
     "name": "stdout",
     "output_type": "stream",
     "text": [
      "25\n",
      "26\n",
      "27\n",
      "28\n",
      "29\n",
      "30\n",
      "31\n",
      "32\n",
      "33\n",
      "34\n",
      "35\n",
      "36\n",
      "37\n",
      "38\n",
      "39\n",
      "40\n",
      "41\n",
      "42\n",
      "43\n",
      "44\n",
      "45\n",
      "46\n",
      "47\n",
      "48\n",
      "49\n",
      "50\n",
      "51\n",
      "52\n",
      "53\n",
      "54\n",
      "55\n",
      "56\n",
      "57\n",
      "58\n",
      "59\n",
      "60\n",
      "its time for retirement\n"
     ]
    }
   ],
   "source": [
    "# while loop while-else\n",
    "joining_age = 25\n",
    "while joining_age <= 60:\n",
    "    print(joining_age)\n",
    "    joining_age=joining_age+1\n",
    "else:\n",
    "    print(\"its time for retirement\")"
   ]
  },
  {
   "cell_type": "code",
   "execution_count": 2,
   "id": "92af3830-dceb-417f-8e14-187cb998f4ec",
   "metadata": {},
   "outputs": [
    {
     "name": "stdout",
     "output_type": "stream",
     "text": [
      "1000\n",
      "900\n",
      "800\n",
      "700\n",
      "600\n",
      "500\n",
      "400\n",
      "300\n",
      "200\n",
      "100\n",
      "put more money\n"
     ]
    }
   ],
   "source": [
    "### ATM machine with 1000 rs \n",
    "total_amount = 1000\n",
    "while total_amount != 0:\n",
    "    print(total_amount)\n",
    "    total_amount = total_amount-100\n",
    "else:\n",
    "    print(\"put more money\")"
   ]
  },
  {
   "cell_type": "markdown",
   "id": "d4ffb19d-a34f-4cfa-af83-5db70559c51a",
   "metadata": {},
   "source": [
    "## For Loop\n"
   ]
  },
  {
   "cell_type": "code",
   "execution_count": 5,
   "id": "cb9995ae-251c-4b10-8322-a67f8b10f3b5",
   "metadata": {},
   "outputs": [],
   "source": [
    "lst=[\"apple\",1,2,3,\"Praveen\",\"Patel\"]"
   ]
  },
  {
   "cell_type": "code",
   "execution_count": 4,
   "id": "85bdbd94-230a-4d35-aadd-0e949c50d651",
   "metadata": {},
   "outputs": [
    {
     "data": {
      "text/plain": [
       "list"
      ]
     },
     "execution_count": 4,
     "metadata": {},
     "output_type": "execute_result"
    }
   ],
   "source": [
    "type(lst)"
   ]
  },
  {
   "cell_type": "code",
   "execution_count": 9,
   "id": "002e2762-c133-4127-9f64-bfa96ade4ff8",
   "metadata": {},
   "outputs": [
    {
     "data": {
      "text/plain": [
       "'apple'"
      ]
     },
     "execution_count": 9,
     "metadata": {},
     "output_type": "execute_result"
    }
   ],
   "source": [
    "lst[0]"
   ]
  },
  {
   "cell_type": "code",
   "execution_count": 10,
   "id": "e881343d-c165-48a9-bd26-e01e6917b4ff",
   "metadata": {},
   "outputs": [
    {
     "name": "stdout",
     "output_type": "stream",
     "text": [
      "apple\n",
      "1\n",
      "2\n",
      "3\n",
      "Praveen\n",
      "Patel\n"
     ]
    }
   ],
   "source": [
    "for x in lst:\n",
    "    print(x)"
   ]
  },
  {
   "cell_type": "code",
   "execution_count": 11,
   "id": "8a521540-4595-4b1d-aa0b-24fa53cc3291",
   "metadata": {},
   "outputs": [],
   "source": [
    "fruits_list=[\"apple\",\"mango\",\"cherry\",\"papaya\",\"Banana\"]"
   ]
  },
  {
   "cell_type": "code",
   "execution_count": 15,
   "id": "cc5881e2-0caa-4fdf-bd27-5a0b4b3eeb07",
   "metadata": {},
   "outputs": [
    {
     "name": "stdout",
     "output_type": "stream",
     "text": [
      "apple\n",
      "mango\n",
      "cherry\n",
      "The fruit is cherry\n",
      "papaya\n",
      "Banana\n"
     ]
    }
   ],
   "source": [
    "for a in fruits_list:\n",
    "    print(a)\n",
    "    if a==\"cherry\":\n",
    "        print(\"The fruit is cherry\")"
   ]
  },
  {
   "cell_type": "code",
   "execution_count": 16,
   "id": "78d1e0c9-45f3-4983-9b6c-dcd490e324f9",
   "metadata": {},
   "outputs": [
    {
     "name": "stdout",
     "output_type": "stream",
     "text": [
      "m\n",
      "a\n",
      "n\n",
      "g\n",
      "o\n"
     ]
    }
   ],
   "source": [
    "fruit =  \"mango\"  ## string is also a collestion of elements.\n",
    "for x in fruit:\n",
    "    print(x)"
   ]
  },
  {
   "cell_type": "code",
   "execution_count": 18,
   "id": "f9fb079f-a736-4ce7-9a90-e847262d42d1",
   "metadata": {},
   "outputs": [
    {
     "data": {
      "text/plain": [
       "'m'"
      ]
     },
     "execution_count": 18,
     "metadata": {},
     "output_type": "execute_result"
    }
   ],
   "source": [
    "fruit[0]  ## we can do indexing.. in string also."
   ]
  },
  {
   "cell_type": "code",
   "execution_count": 22,
   "id": "df43701e-44c9-4d28-8ff6-ce40b791a399",
   "metadata": {},
   "outputs": [
    {
     "name": "stdout",
     "output_type": "stream",
     "text": [
      "1\n",
      "3\n",
      "5\n"
     ]
    }
   ],
   "source": [
    "for i in range(1,6,2):\n",
    "    print(i)\n",
    "    "
   ]
  },
  {
   "cell_type": "code",
   "execution_count": 29,
   "id": "2eae6a96-72c1-4c8d-99a9-c37c5187c6e0",
   "metadata": {},
   "outputs": [
    {
     "name": "stdout",
     "output_type": "stream",
     "text": [
      "*\n",
      "**\n",
      "***\n",
      "****\n",
      "*****\n",
      "******\n",
      "*******\n"
     ]
    }
   ],
   "source": [
    "### Nested loops\n",
    "n=7\n",
    "\n",
    "for i in range(0,n):   ## WHEN i STARTED WITH 0 :- IT MEAN IT RUN ONE ITRACTION\n",
    "    for j in range(0,i+1):   ## WHEN i HABE 1 ITRACTION THEN j HAVE 2 ITRACTION THAT IS 0,1\n",
    "            print(\"*\",end=\"\")\n",
    "    print(\"\\r\")  ## \\r next line and move towords the left most side."
   ]
  },
  {
   "cell_type": "code",
   "execution_count": 30,
   "id": "ff10b104-2759-4546-9481-483679bbabf2",
   "metadata": {},
   "outputs": [],
   "source": [
    "## loop controls\n",
    "## break and continue\n",
    "\n",
    "fruits_list=[\"apple\",\"mango\",\"cherry\",\"papaya\",\"Banana\"]\n"
   ]
  },
  {
   "cell_type": "code",
   "execution_count": 35,
   "id": "6f97ba02-42af-45c5-8063-0a2236e2cd51",
   "metadata": {},
   "outputs": [
    {
     "name": "stdout",
     "output_type": "stream",
     "text": [
      "apple\n",
      "mango\n",
      "the fruit is cherry\n"
     ]
    }
   ],
   "source": [
    "for i in fruits_list:\n",
    "    if i == \"cherry\":\n",
    "        print(\"the fruit is cherry\")\n",
    "        break\n",
    "    print(i)    ## break the loop after finding cherry"
   ]
  },
  {
   "cell_type": "code",
   "execution_count": 38,
   "id": "9457f3e0-e15a-40ad-86d9-62bc76b98a47",
   "metadata": {},
   "outputs": [
    {
     "name": "stdout",
     "output_type": "stream",
     "text": [
      "apple\n",
      "mango\n",
      "the fruit is cherry\n",
      "cherry\n",
      "papaya\n",
      "Banana\n"
     ]
    }
   ],
   "source": [
    "for i in fruits_list:\n",
    "    if i == \"cherry\":\n",
    "        print(\"the fruit is cherry\")\n",
    "        pass\n",
    "    print(i) ## it will not do every thing"
   ]
  },
  {
   "cell_type": "code",
   "execution_count": 39,
   "id": "c3d2dbff-bf46-46ab-8c58-e0b7b524fd3f",
   "metadata": {},
   "outputs": [
    {
     "name": "stdout",
     "output_type": "stream",
     "text": [
      "apple\n",
      "mango\n",
      "the fruit is cherry\n",
      "papaya\n",
      "Banana\n"
     ]
    }
   ],
   "source": [
    "for i in fruits_list:\n",
    "    if i == \"cherry\":\n",
    "        print(\"the fruit is cherry\")\n",
    "        continue  ## skip the loop\n",
    "    print(i)"
   ]
  },
  {
   "cell_type": "code",
   "execution_count": null,
   "id": "ca003fed-6d6a-45a9-b63d-f15a8b08b706",
   "metadata": {},
   "outputs": [],
   "source": []
  }
 ],
 "metadata": {
  "kernelspec": {
   "display_name": "Python 3 (ipykernel)",
   "language": "python",
   "name": "python3"
  },
  "language_info": {
   "codemirror_mode": {
    "name": "ipython",
    "version": 3
   },
   "file_extension": ".py",
   "mimetype": "text/x-python",
   "name": "python",
   "nbconvert_exporter": "python",
   "pygments_lexer": "ipython3",
   "version": "3.10.8"
  }
 },
 "nbformat": 4,
 "nbformat_minor": 5
}
