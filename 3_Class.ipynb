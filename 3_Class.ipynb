{
 "cells": [
  {
   "cell_type": "markdown",
   "id": "7386f638-b560-486e-b57a-1a039437da25",
   "metadata": {},
   "source": [
    "## Logical Operators\n",
    "\n",
    "1. AND \n",
    "2. OR\n",
    "3. NOT"
   ]
  },
  {
   "cell_type": "code",
   "execution_count": 3,
   "id": "d3f6c6f5-3716-422c-a720-7b25452427b6",
   "metadata": {},
   "outputs": [
    {
     "data": {
      "text/plain": [
       "True"
      ]
     },
     "execution_count": 3,
     "metadata": {},
     "output_type": "execute_result"
    }
   ],
   "source": [
    "True and True"
   ]
  },
  {
   "cell_type": "code",
   "execution_count": 4,
   "id": "eedd437d-2e54-445a-a473-326fcc25aaa2",
   "metadata": {},
   "outputs": [
    {
     "data": {
      "text/plain": [
       "True"
      ]
     },
     "execution_count": 4,
     "metadata": {},
     "output_type": "execute_result"
    }
   ],
   "source": [
    "True or False"
   ]
  },
  {
   "cell_type": "code",
   "execution_count": 5,
   "id": "972c6c4b-eb9e-46eb-b989-c528b1bb6eef",
   "metadata": {},
   "outputs": [
    {
     "data": {
      "text/plain": [
       "True"
      ]
     },
     "execution_count": 5,
     "metadata": {},
     "output_type": "execute_result"
    }
   ],
   "source": [
    "not False"
   ]
  },
  {
   "cell_type": "code",
   "execution_count": 11,
   "id": "deaebc2d-e271-4b19-8610-b7faf506c427",
   "metadata": {},
   "outputs": [
    {
     "data": {
      "text/plain": [
       "1"
      ]
     },
     "execution_count": 11,
     "metadata": {},
     "output_type": "execute_result"
    }
   ],
   "source": [
    "int(bool(1))"
   ]
  },
  {
   "cell_type": "code",
   "execution_count": 12,
   "id": "a2caf5cf-0712-4b5c-ad38-435741f207dd",
   "metadata": {},
   "outputs": [
    {
     "data": {
      "text/plain": [
       "True"
      ]
     },
     "execution_count": 12,
     "metadata": {},
     "output_type": "execute_result"
    }
   ],
   "source": [
    "not(False)*False == True"
   ]
  },
  {
   "cell_type": "code",
   "execution_count": 13,
   "id": "c4dc9794-3379-4196-8b28-9026e9401fac",
   "metadata": {},
   "outputs": [
    {
     "data": {
      "text/plain": [
       "True"
      ]
     },
     "execution_count": 13,
     "metadata": {},
     "output_type": "execute_result"
    }
   ],
   "source": [
    "not False*False == True"
   ]
  },
  {
   "cell_type": "code",
   "execution_count": 16,
   "id": "065b4d23-db73-422a-9de8-176b1af0536d",
   "metadata": {},
   "outputs": [
    {
     "data": {
      "text/plain": [
       "True"
      ]
     },
     "execution_count": 16,
     "metadata": {},
     "output_type": "execute_result"
    }
   ],
   "source": [
    "not False * 0"
   ]
  },
  {
   "cell_type": "code",
   "execution_count": 23,
   "id": "5fff7a34-b0c8-44b1-8588-53864d026311",
   "metadata": {},
   "outputs": [
    {
     "data": {
      "text/plain": [
       "True"
      ]
     },
     "execution_count": 23,
     "metadata": {},
     "output_type": "execute_result"
    }
   ],
   "source": [
    "(not(0))\n"
   ]
  },
  {
   "cell_type": "code",
   "execution_count": 19,
   "id": "c6d8603d-d681-4689-b07e-f87410c0d1e6",
   "metadata": {},
   "outputs": [
    {
     "name": "stdout",
     "output_type": "stream",
     "text": [
      "0\n"
     ]
    }
   ],
   "source": [
    "print((not(False))* False)"
   ]
  },
  {
   "cell_type": "code",
   "execution_count": 26,
   "id": "1c40c772-bbc9-4152-ad07-2952be1ec268",
   "metadata": {},
   "outputs": [
    {
     "data": {
      "text/plain": [
       "14.0"
      ]
     },
     "execution_count": 26,
     "metadata": {},
     "output_type": "execute_result"
    }
   ],
   "source": [
    "2*3+40/5 ##BODMAS ROLE"
   ]
  },
  {
   "cell_type": "code",
   "execution_count": 27,
   "id": "a20a8731-33d3-4c6f-be9e-353d21997bf4",
   "metadata": {},
   "outputs": [
    {
     "data": {
      "text/plain": [
       "9.2"
      ]
     },
     "execution_count": 27,
     "metadata": {},
     "output_type": "execute_result"
    }
   ],
   "source": [
    "(2*3+40)/5"
   ]
  },
  {
   "cell_type": "code",
   "execution_count": 29,
   "id": "24408dae-1947-42de-8868-683e61cf7ed6",
   "metadata": {},
   "outputs": [
    {
     "data": {
      "text/plain": [
       "True"
      ]
     },
     "execution_count": 29,
     "metadata": {},
     "output_type": "execute_result"
    }
   ],
   "source": [
    "not(False * True)"
   ]
  },
  {
   "cell_type": "code",
   "execution_count": 32,
   "id": "f97a8462-dddc-4239-9ecc-3054a969cd46",
   "metadata": {},
   "outputs": [
    {
     "data": {
      "text/plain": [
       "True"
      ]
     },
     "execution_count": 32,
     "metadata": {},
     "output_type": "execute_result"
    }
   ],
   "source": [
    "not(0) ### \"NOT\" IS BOOL OPERATION, IT ALWAYS GIVE IN TRUE OR FALSE  "
   ]
  },
  {
   "cell_type": "markdown",
   "id": "66c2d626-f14a-4ecc-a54a-298396edea2b",
   "metadata": {},
   "source": [
    "## Equality Operater\n",
    "\n",
    "|Operatirs|Meaning|\n",
    "|-|-|\n",
    "|**is**|***a is b*** reture TRUE if variable/identifiers a and b point to the same Object|\n",
    "|**is not**|***a is not b*** reture TRUE if variable/identifiers a and b point to the differnt Object|\n",
    "|**==**|***a == b*** reture TRUE if variable/identifiers a and b point to the same Object|\n",
    "|**!=**|***a != b*** reture TRUE if variable/identifiers a and b point to the differnt Object|\n"
   ]
  },
  {
   "cell_type": "code",
   "execution_count": 40,
   "id": "f750efbf-ee69-4fc8-81ea-cf65db8e05bd",
   "metadata": {},
   "outputs": [
    {
     "name": "stdout",
     "output_type": "stream",
     "text": [
      "139687100819840\n",
      "139687100662784\n"
     ]
    }
   ],
   "source": [
    "lst_1 = [1,2,3,4]\n",
    "lst_2 = [1,2,3,4]\n",
    "\n",
    "print(id(lst_1))   ## memmory address\n",
    "print(id(lst_2))"
   ]
  },
  {
   "cell_type": "code",
   "execution_count": 42,
   "id": "29854730-9804-44aa-8d64-a73686555aee",
   "metadata": {},
   "outputs": [
    {
     "data": {
      "text/plain": [
       "False"
      ]
     },
     "execution_count": 42,
     "metadata": {},
     "output_type": "execute_result"
    }
   ],
   "source": [
    "lst_1 is lst_2 ## Bcz it have pointing on differnt address."
   ]
  },
  {
   "cell_type": "code",
   "execution_count": 45,
   "id": "1d143587-5e4f-49a4-baf9-dc3d57f94958",
   "metadata": {},
   "outputs": [
    {
     "name": "stdout",
     "output_type": "stream",
     "text": [
      "139687100782272\n",
      "139687100782272\n"
     ]
    },
    {
     "data": {
      "text/plain": [
       "True"
      ]
     },
     "execution_count": 45,
     "metadata": {},
     "output_type": "execute_result"
    }
   ],
   "source": [
    "lst_1 = [1,2,3,4]\n",
    "lst_2 = lst_1\n",
    "\n",
    "print(id(lst_1))   \n",
    "print(id(lst_2))\n",
    "\n",
    "lst_1 is lst_2  ## same Address."
   ]
  },
  {
   "cell_type": "code",
   "execution_count": 3,
   "id": "9a9fc68c-f1e5-4db9-8fb7-289daa590bcc",
   "metadata": {},
   "outputs": [
    {
     "data": {
      "text/plain": [
       "True"
      ]
     },
     "execution_count": 3,
     "metadata": {},
     "output_type": "execute_result"
    }
   ],
   "source": [
    "lst_1 = [1,2,3,4]\n",
    "lst_2 = [1,2,3,4]\n",
    "\n",
    "lst_1 is not lst_2"
   ]
  },
  {
   "cell_type": "code",
   "execution_count": 49,
   "id": "fc5a4592-efde-4fd5-a565-5cae9cef4171",
   "metadata": {},
   "outputs": [
    {
     "data": {
      "text/plain": [
       "True"
      ]
     },
     "execution_count": 49,
     "metadata": {},
     "output_type": "execute_result"
    }
   ],
   "source": [
    "lst_1 == lst_2   ## checking element into list, It have same elements. SO, result have TRUE"
   ]
  },
  {
   "cell_type": "code",
   "execution_count": 4,
   "id": "036f459a-35a8-43f4-85df-77c23cb6184a",
   "metadata": {},
   "outputs": [],
   "source": [
    "lst_1[0]= 10"
   ]
  },
  {
   "cell_type": "code",
   "execution_count": 5,
   "id": "d591bec1-30f7-45a0-8d12-745f1d2f43fb",
   "metadata": {},
   "outputs": [
    {
     "data": {
      "text/plain": [
       "[10, 2, 3, 4]"
      ]
     },
     "execution_count": 5,
     "metadata": {},
     "output_type": "execute_result"
    }
   ],
   "source": [
    "lst_1    ## list is Mutable"
   ]
  },
  {
   "cell_type": "code",
   "execution_count": 7,
   "id": "2089b6b7-299e-46ef-8d0b-ada2bc97eb5c",
   "metadata": {},
   "outputs": [],
   "source": [
    "str1 = \"Praveen\""
   ]
  },
  {
   "cell_type": "code",
   "execution_count": 9,
   "id": "9d0a40e6-b370-4e8a-a956-827f3fe12171",
   "metadata": {},
   "outputs": [
    {
     "ename": "TypeError",
     "evalue": "'str' object does not support item assignment",
     "output_type": "error",
     "traceback": [
      "\u001b[0;31m---------------------------------------------------------------------------\u001b[0m",
      "\u001b[0;31mTypeError\u001b[0m                                 Traceback (most recent call last)",
      "Cell \u001b[0;32mIn[9], line 1\u001b[0m\n\u001b[0;32m----> 1\u001b[0m \u001b[43mstr1\u001b[49m\u001b[43m[\u001b[49m\u001b[38;5;241;43m0\u001b[39;49m\u001b[43m]\u001b[49m \u001b[38;5;241m=\u001b[39m \u001b[38;5;124m\"\u001b[39m\u001b[38;5;124mn\u001b[39m\u001b[38;5;124m\"\u001b[39m\n",
      "\u001b[0;31mTypeError\u001b[0m: 'str' object does not support item assignment"
     ]
    }
   ],
   "source": [
    "str1[0] = \"n\"   ## string is inmutable"
   ]
  },
  {
   "cell_type": "markdown",
   "id": "d3539c43-d7cb-41d7-90a9-ab7a19594282",
   "metadata": {},
   "source": [
    "## Operation    \n",
    "\n",
    "1 <  :- Less then\n",
    "2 <= :- Less then or equal to\n",
    "3 > :- Grater then\n",
    "4 >= :- Grater then or equal to"
   ]
  },
  {
   "cell_type": "code",
   "execution_count": 11,
   "id": "2e8c595c-0104-4411-b59c-cd9130a7f916",
   "metadata": {},
   "outputs": [
    {
     "name": "stdout",
     "output_type": "stream",
     "text": [
      "bike is faster then car:False\n"
     ]
    }
   ],
   "source": [
    "bike = 200\n",
    "car = 250\n",
    "\n",
    "print (f\"bike is faster then car:{bike> car}\")"
   ]
  },
  {
   "cell_type": "code",
   "execution_count": 13,
   "id": "2b08db2c-91ee-425f-a342-aad7f8f67fa7",
   "metadata": {},
   "outputs": [
    {
     "name": "stdout",
     "output_type": "stream",
     "text": [
      "bike is slower  then car:True\n"
     ]
    }
   ],
   "source": [
    "bike = 200\n",
    "car = 250\n",
    "\n",
    "print (f\"bike is slower  then car:{bike <= car}\")"
   ]
  },
  {
   "cell_type": "markdown",
   "id": "190ba07c-0b5b-492a-beb0-a61fe4352b32",
   "metadata": {},
   "source": [
    "## Arithmethic Operation\n",
    "\n",
    "+,-,*,/,//,%"
   ]
  },
  {
   "cell_type": "code",
   "execution_count": 14,
   "id": "ef3c06e7-1a08-4f9d-8315-31ca54018940",
   "metadata": {},
   "outputs": [],
   "source": [
    "a= 25\n",
    "b = 101\n"
   ]
  },
  {
   "cell_type": "code",
   "execution_count": 15,
   "id": "5242f99d-7ba9-43cf-b7e7-02a63aef1983",
   "metadata": {},
   "outputs": [
    {
     "data": {
      "text/plain": [
       "2525"
      ]
     },
     "execution_count": 15,
     "metadata": {},
     "output_type": "execute_result"
    }
   ],
   "source": [
    "b*a"
   ]
  },
  {
   "cell_type": "code",
   "execution_count": 16,
   "id": "88b0d100-6838-4745-a59b-8c5cc6f37beb",
   "metadata": {},
   "outputs": [
    {
     "data": {
      "text/plain": [
       "126"
      ]
     },
     "execution_count": 16,
     "metadata": {},
     "output_type": "execute_result"
    }
   ],
   "source": [
    "b+a"
   ]
  },
  {
   "cell_type": "code",
   "execution_count": 17,
   "id": "a6eefafc-cb48-4f38-90c5-0e414b3f7792",
   "metadata": {},
   "outputs": [
    {
     "data": {
      "text/plain": [
       "4.04"
      ]
     },
     "execution_count": 17,
     "metadata": {},
     "output_type": "execute_result"
    }
   ],
   "source": [
    "b/a"
   ]
  },
  {
   "cell_type": "code",
   "execution_count": 18,
   "id": "a3770f88-53b4-42b8-a589-2eaff1f8fa2b",
   "metadata": {},
   "outputs": [
    {
     "data": {
      "text/plain": [
       "0.24752475247524752"
      ]
     },
     "execution_count": 18,
     "metadata": {},
     "output_type": "execute_result"
    }
   ],
   "source": [
    "a/b"
   ]
  },
  {
   "cell_type": "code",
   "execution_count": 22,
   "id": "ee90822d-e14a-47d5-a94a-a7b6119f900b",
   "metadata": {},
   "outputs": [
    {
     "data": {
      "text/plain": [
       "0"
      ]
     },
     "execution_count": 22,
     "metadata": {},
     "output_type": "execute_result"
    }
   ],
   "source": [
    "a//b   ## Integer division, like not after point value."
   ]
  },
  {
   "cell_type": "code",
   "execution_count": 23,
   "id": "ca256ce1-0fdd-41e6-af48-d2a81bd8c0f1",
   "metadata": {},
   "outputs": [
    {
     "data": {
      "text/plain": [
       "4"
      ]
     },
     "execution_count": 23,
     "metadata": {},
     "output_type": "execute_result"
    }
   ],
   "source": [
    "b//a  "
   ]
  },
  {
   "cell_type": "code",
   "execution_count": 28,
   "id": "47501e94-15c3-40a2-b0e8-3d7cdb474ed6",
   "metadata": {},
   "outputs": [
    {
     "data": {
      "text/plain": [
       "1"
      ]
     },
     "execution_count": 28,
     "metadata": {},
     "output_type": "execute_result"
    }
   ],
   "source": [
    "b%a   ## Remainder"
   ]
  },
  {
   "cell_type": "code",
   "execution_count": 25,
   "id": "3909895e-889d-4d94-9b75-bd20af8f8aac",
   "metadata": {},
   "outputs": [
    {
     "data": {
      "text/plain": [
       "25"
      ]
     },
     "execution_count": 25,
     "metadata": {},
     "output_type": "execute_result"
    }
   ],
   "source": [
    "a%b"
   ]
  },
  {
   "cell_type": "markdown",
   "id": "c7ca8b30-9a62-4e16-b6c7-8b2ad5b6c8f7",
   "metadata": {},
   "source": [
    "## Bitwise Operators\n",
    "\n",
    "`,&,|,^,<<,>>"
   ]
  },
  {
   "cell_type": "code",
   "execution_count": 32,
   "id": "b9e1a412-a61c-42f2-a6ed-a9928110bf91",
   "metadata": {},
   "outputs": [
    {
     "data": {
      "text/plain": [
       "'0b1010'"
      ]
     },
     "execution_count": 32,
     "metadata": {},
     "output_type": "execute_result"
    }
   ],
   "source": [
    "var = 10\n",
    "bin(var)  ## Binary Form"
   ]
  },
  {
   "cell_type": "code",
   "execution_count": 33,
   "id": "b9f0bde9-4b1d-48e8-94af-9da8c4600cd5",
   "metadata": {},
   "outputs": [
    {
     "data": {
      "text/plain": [
       "-11"
      ]
     },
     "execution_count": 33,
     "metadata": {},
     "output_type": "execute_result"
    }
   ],
   "source": [
    "~var  ## Bitwise Complement"
   ]
  },
  {
   "cell_type": "markdown",
   "id": "b86924e2-18a1-451b-94d0-4f35d75e5117",
   "metadata": {},
   "source": [
    "## Data structure\n",
    "\n",
    "1. String"
   ]
  },
  {
   "cell_type": "code",
   "execution_count": 35,
   "id": "41acd4b8-c80d-48e3-b2d1-99ef5ce94f9c",
   "metadata": {},
   "outputs": [],
   "source": [
    "str1 = \"Praveen\"\n",
    "str2= \"Welcome to the data science master\""
   ]
  },
  {
   "cell_type": "code",
   "execution_count": 36,
   "id": "c92ed7bf-1cdb-409f-854a-d30f3df23e0d",
   "metadata": {},
   "outputs": [
    {
     "data": {
      "text/plain": [
       "str"
      ]
     },
     "execution_count": 36,
     "metadata": {},
     "output_type": "execute_result"
    }
   ],
   "source": [
    "type(str1)"
   ]
  },
  {
   "cell_type": "code",
   "execution_count": 37,
   "id": "65ef5988-a743-41eb-a9a2-4a63cf67486c",
   "metadata": {},
   "outputs": [
    {
     "data": {
      "text/plain": [
       "'P'"
      ]
     },
     "execution_count": 37,
     "metadata": {},
     "output_type": "execute_result"
    }
   ],
   "source": [
    "str1[0]"
   ]
  },
  {
   "cell_type": "code",
   "execution_count": 40,
   "id": "5b3826ed-a32e-45c5-b264-d3a94a422cdf",
   "metadata": {},
   "outputs": [],
   "source": [
    "str1 = \"Patel\" "
   ]
  },
  {
   "cell_type": "code",
   "execution_count": 41,
   "id": "afb4b6f7-9e4c-491b-8331-2c9069ff3322",
   "metadata": {},
   "outputs": [
    {
     "data": {
      "text/plain": [
       "'Patel'"
      ]
     },
     "execution_count": 41,
     "metadata": {},
     "output_type": "execute_result"
    }
   ],
   "source": [
    "str1 "
   ]
  },
  {
   "cell_type": "code",
   "execution_count": 43,
   "id": "8fb09736-9a73-4532-8b8a-56cb9baa32ff",
   "metadata": {},
   "outputs": [
    {
     "data": {
      "text/plain": [
       "'a'"
      ]
     },
     "execution_count": 43,
     "metadata": {},
     "output_type": "execute_result"
    }
   ],
   "source": [
    "str1[1]"
   ]
  },
  {
   "cell_type": "code",
   "execution_count": 44,
   "id": "6cf988ac-6d11-4c97-b931-ffe7a1accc10",
   "metadata": {},
   "outputs": [
    {
     "data": {
      "text/plain": [
       "'atel'"
      ]
     },
     "execution_count": 44,
     "metadata": {},
     "output_type": "execute_result"
    }
   ],
   "source": [
    "str1[1:]   ## Slice operation"
   ]
  },
  {
   "cell_type": "code",
   "execution_count": 45,
   "id": "3f8f71c1-3289-4b62-ab41-6ec6be345418",
   "metadata": {},
   "outputs": [
    {
     "data": {
      "text/plain": [
       "'Pate'"
      ]
     },
     "execution_count": 45,
     "metadata": {},
     "output_type": "execute_result"
    }
   ],
   "source": [
    "str1[0:4]"
   ]
  },
  {
   "cell_type": "code",
   "execution_count": 46,
   "id": "80155166-351a-4df4-a1e0-c4283325c83f",
   "metadata": {},
   "outputs": [
    {
     "data": {
      "text/plain": [
       "'l'"
      ]
     },
     "execution_count": 46,
     "metadata": {},
     "output_type": "execute_result"
    }
   ],
   "source": [
    "str1[-1]"
   ]
  },
  {
   "cell_type": "code",
   "execution_count": 48,
   "id": "9f866096-0b01-4c55-8a7e-8dc1b3100e38",
   "metadata": {},
   "outputs": [
    {
     "data": {
      "text/plain": [
       "'tel'"
      ]
     },
     "execution_count": 48,
     "metadata": {},
     "output_type": "execute_result"
    }
   ],
   "source": [
    "str1[-3:]"
   ]
  },
  {
   "cell_type": "code",
   "execution_count": 50,
   "id": "9baec629-56b8-481a-b683-5a3d0e94adb9",
   "metadata": {},
   "outputs": [
    {
     "data": {
      "text/plain": [
       "'Pate'"
      ]
     },
     "execution_count": 50,
     "metadata": {},
     "output_type": "execute_result"
    }
   ],
   "source": [
    "str1[:-1]  ## Read every thing except last one."
   ]
  },
  {
   "cell_type": "code",
   "execution_count": 52,
   "id": "fe547ad0-155c-4a92-bd6c-ba136d2f23a6",
   "metadata": {},
   "outputs": [
    {
     "data": {
      "text/plain": [
       "'Patel'"
      ]
     },
     "execution_count": 52,
     "metadata": {},
     "output_type": "execute_result"
    }
   ],
   "source": [
    "str1[:]  ## read every thing"
   ]
  },
  {
   "cell_type": "code",
   "execution_count": 53,
   "id": "cbe512a1-11f6-44a8-9146-ebdab87162d7",
   "metadata": {},
   "outputs": [],
   "source": [
    "name = \"Karthik\""
   ]
  },
  {
   "cell_type": "code",
   "execution_count": 54,
   "id": "742b7633-17ed-4ccf-bb18-133e523f69df",
   "metadata": {},
   "outputs": [
    {
     "data": {
      "text/plain": [
       "'rt'"
      ]
     },
     "execution_count": 54,
     "metadata": {},
     "output_type": "execute_result"
    }
   ],
   "source": [
    "name[-5:4]"
   ]
  },
  {
   "cell_type": "code",
   "execution_count": 56,
   "id": "86c13b17-296b-470b-91ba-f28a75fb1b02",
   "metadata": {},
   "outputs": [
    {
     "data": {
      "text/plain": [
       "'letaP'"
      ]
     },
     "execution_count": 56,
     "metadata": {},
     "output_type": "execute_result"
    }
   ],
   "source": [
    "str1[::-1]  ## Reverce of string by step size of 1"
   ]
  },
  {
   "cell_type": "code",
   "execution_count": 58,
   "id": "510f5428-cc81-4f88-8c96-59e5cd927709",
   "metadata": {},
   "outputs": [
    {
     "data": {
      "text/plain": [
       "'ltP'"
      ]
     },
     "execution_count": 58,
     "metadata": {},
     "output_type": "execute_result"
    }
   ],
   "source": [
    "str1[::-2]  ## Reverce of string by step size of 2"
   ]
  },
  {
   "cell_type": "code",
   "execution_count": 75,
   "id": "93f70836-875f-48fd-8a08-a5c1f78de8f4",
   "metadata": {},
   "outputs": [
    {
     "data": {
      "text/plain": [
       "'traK'"
      ]
     },
     "execution_count": 75,
     "metadata": {},
     "output_type": "execute_result"
    }
   ],
   "source": [
    "name[3::-1]"
   ]
  },
  {
   "cell_type": "code",
   "execution_count": 76,
   "id": "d7453092-b5d8-47de-95b9-73313f085443",
   "metadata": {},
   "outputs": [
    {
     "data": {
      "text/plain": [
       "'tr'"
      ]
     },
     "execution_count": 76,
     "metadata": {},
     "output_type": "execute_result"
    }
   ],
   "source": [
    "name[3:1:-1]"
   ]
  },
  {
   "cell_type": "code",
   "execution_count": 77,
   "id": "3ea5d20b-9d9e-4f32-a0e2-60329dd6fa4c",
   "metadata": {},
   "outputs": [],
   "source": [
    "course_name = \"Data Science Masters\""
   ]
  },
  {
   "cell_type": "code",
   "execution_count": 78,
   "id": "46360396-b698-41f0-b4e4-fe8cc5e8392e",
   "metadata": {},
   "outputs": [
    {
     "data": {
      "text/plain": [
       "'Science'"
      ]
     },
     "execution_count": 78,
     "metadata": {},
     "output_type": "execute_result"
    }
   ],
   "source": [
    "course_name[5:12]"
   ]
  },
  {
   "cell_type": "code",
   "execution_count": 86,
   "id": "40e5edf0-f3ab-40ee-b0c7-d86f3d9a1e97",
   "metadata": {},
   "outputs": [
    {
     "data": {
      "text/plain": [
       "'ecneicS'"
      ]
     },
     "execution_count": 86,
     "metadata": {},
     "output_type": "execute_result"
    }
   ],
   "source": [
    "course_name[11:4:-1]   ## 11 is index from backword and 4 is index from forward and -1 for reverse"
   ]
  },
  {
   "cell_type": "code",
   "execution_count": 88,
   "id": "ffe7ad7b-9411-4272-a2ce-cb09cc2e3fa3",
   "metadata": {},
   "outputs": [
    {
     "data": {
      "text/plain": [
       "'Data Science MastersCourse'"
      ]
     },
     "execution_count": 88,
     "metadata": {},
     "output_type": "execute_result"
    }
   ],
   "source": [
    "course_name + \"Course\"   ## Concatenation"
   ]
  },
  {
   "cell_type": "code",
   "execution_count": 90,
   "id": "67b83fe3-f5a9-491e-9b14-7b1ee0d36b7e",
   "metadata": {},
   "outputs": [
    {
     "name": "stdout",
     "output_type": "stream",
     "text": [
      "Hello Word\n"
     ]
    }
   ],
   "source": [
    "print(\"Hello\"+\" Word\")"
   ]
  },
  {
   "cell_type": "code",
   "execution_count": 92,
   "id": "ba2eb819-c2f3-48fc-aa53-d42d51163d91",
   "metadata": {},
   "outputs": [
    {
     "data": {
      "text/plain": [
       "'Data Science MastersData Science MastersData Science MastersData Science MastersData Science Masters'"
      ]
     },
     "execution_count": 92,
     "metadata": {},
     "output_type": "execute_result"
    }
   ],
   "source": [
    "course_name * 5"
   ]
  },
  {
   "cell_type": "code",
   "execution_count": 93,
   "id": "2ae7b290-7d4d-46d2-b737-cc6ce1ba8821",
   "metadata": {},
   "outputs": [
    {
     "data": {
      "text/plain": [
       "20"
      ]
     },
     "execution_count": 93,
     "metadata": {},
     "output_type": "execute_result"
    }
   ],
   "source": [
    "len(course_name)"
   ]
  },
  {
   "cell_type": "code",
   "execution_count": 95,
   "id": "1df883d0-0e3a-4522-909f-35cba55b9bcb",
   "metadata": {},
   "outputs": [
    {
     "data": {
      "text/plain": [
       "9"
      ]
     },
     "execution_count": 95,
     "metadata": {},
     "output_type": "execute_result"
    }
   ],
   "source": [
    "course_name.find(\"n\")  ## To find Index no."
   ]
  },
  {
   "cell_type": "code",
   "execution_count": 97,
   "id": "57db6570-d490-48ec-b786-a2c5cca2ce27",
   "metadata": {},
   "outputs": [
    {
     "data": {
      "text/plain": [
       "3"
      ]
     },
     "execution_count": 97,
     "metadata": {},
     "output_type": "execute_result"
    }
   ],
   "source": [
    "course_name.find(\"a\",2,10) ## find btw 2 and 10 index position"
   ]
  },
  {
   "cell_type": "code",
   "execution_count": 98,
   "id": "14f9de21-37eb-481b-ad7b-afe7d2f7c9a0",
   "metadata": {},
   "outputs": [
    {
     "data": {
      "text/plain": [
       "-1"
      ]
     },
     "execution_count": 98,
     "metadata": {},
     "output_type": "execute_result"
    }
   ],
   "source": [
    "course_name.find(\"z\")"
   ]
  },
  {
   "cell_type": "code",
   "execution_count": 100,
   "id": "4a974696-ab1e-4350-b0f7-48b53d977d2f",
   "metadata": {},
   "outputs": [
    {
     "data": {
      "text/plain": [
       "3"
      ]
     },
     "execution_count": 100,
     "metadata": {},
     "output_type": "execute_result"
    }
   ],
   "source": [
    " ### Count()\n",
    "    \n",
    "course_name.count(\"a\")"
   ]
  },
  {
   "cell_type": "code",
   "execution_count": 103,
   "id": "8cdd566b-bbae-4b8c-81b4-b95ec73c38cb",
   "metadata": {},
   "outputs": [
    {
     "data": {
      "text/plain": [
       "2"
      ]
     },
     "execution_count": 103,
     "metadata": {},
     "output_type": "execute_result"
    }
   ],
   "source": [
    "course_name.count(\" \")  ## Spaces"
   ]
  },
  {
   "cell_type": "code",
   "execution_count": 106,
   "id": "99dbea66-19d6-4652-8089-2fad4682633e",
   "metadata": {},
   "outputs": [
    {
     "data": {
      "text/plain": [
       "['Data', 'Science', 'Masters']"
      ]
     },
     "execution_count": 106,
     "metadata": {},
     "output_type": "execute_result"
    }
   ],
   "source": [
    "## String Split Function\n",
    "\n",
    "course_name.split(\" \")"
   ]
  },
  {
   "cell_type": "code",
   "execution_count": 107,
   "id": "f6f6db53-c778-4d49-8f8f-91cfae18c70b",
   "metadata": {},
   "outputs": [
    {
     "data": {
      "text/plain": [
       "['Data ', 'cience Masters']"
      ]
     },
     "execution_count": 107,
     "metadata": {},
     "output_type": "execute_result"
    }
   ],
   "source": [
    "course_name.split(\"S\")"
   ]
  },
  {
   "cell_type": "code",
   "execution_count": 112,
   "id": "c741ca16-383b-467d-9de9-92d34c5df9ec",
   "metadata": {},
   "outputs": [
    {
     "data": {
      "text/plain": [
       "('Data ', 'S', 'cience Masters')"
      ]
     },
     "execution_count": 112,
     "metadata": {},
     "output_type": "execute_result"
    }
   ],
   "source": [
    "course_name.partition(\"S\")   ###This will search for the separator in the string.  If the separator is found,returns a 3-tuple containing the part before the separator, the separatoritself, and the part after it###\n"
   ]
  },
  {
   "cell_type": "code",
   "execution_count": 115,
   "id": "99775b10-bd01-4719-9e99-0297b30879d8",
   "metadata": {},
   "outputs": [
    {
     "data": {
      "text/plain": [
       "'DATA SCIENCE MASTERS'"
      ]
     },
     "execution_count": 115,
     "metadata": {},
     "output_type": "execute_result"
    }
   ],
   "source": [
    "## String Upper and Lower case\n",
    "\n",
    "course_name.upper()  ##Return a copy of the string converted to uppercase."
   ]
  },
  {
   "cell_type": "code",
   "execution_count": 116,
   "id": "a7417b14-a091-49cf-8dc8-9d99b4f4e459",
   "metadata": {},
   "outputs": [
    {
     "data": {
      "text/plain": [
       "'data science masters'"
      ]
     },
     "execution_count": 116,
     "metadata": {},
     "output_type": "execute_result"
    }
   ],
   "source": [
    "course_name.lower()"
   ]
  },
  {
   "cell_type": "code",
   "execution_count": 118,
   "id": "ab5d099c-662e-4c03-9399-413866c49b75",
   "metadata": {},
   "outputs": [
    {
     "data": {
      "text/plain": [
       "'dATA sCIENCE mASTERS'"
      ]
     },
     "execution_count": 118,
     "metadata": {},
     "output_type": "execute_result"
    }
   ],
   "source": [
    "## Convert uppercase characters to lowercase and lowercase characters to uppercase.\n",
    "course_name.swapcase()"
   ]
  },
  {
   "cell_type": "code",
   "execution_count": 120,
   "id": "031b660f-0e52-41f0-a40a-b0221a8638da",
   "metadata": {},
   "outputs": [
    {
     "data": {
      "text/plain": [
       "'Data Science Masters'"
      ]
     },
     "execution_count": 120,
     "metadata": {},
     "output_type": "execute_result"
    }
   ],
   "source": [
    "##Return a version of the string where each word is titlecased.\n",
    "\n",
    "course_name.title()"
   ]
  },
  {
   "cell_type": "code",
   "execution_count": null,
   "id": "528a9546-2ce2-4747-b2c5-de3516a17665",
   "metadata": {},
   "outputs": [],
   "source": []
  }
 ],
 "metadata": {
  "kernelspec": {
   "display_name": "Python 3 (ipykernel)",
   "language": "python",
   "name": "python3"
  },
  "language_info": {
   "codemirror_mode": {
    "name": "ipython",
    "version": 3
   },
   "file_extension": ".py",
   "mimetype": "text/x-python",
   "name": "python",
   "nbconvert_exporter": "python",
   "pygments_lexer": "ipython3",
   "version": "3.10.8"
  }
 },
 "nbformat": 4,
 "nbformat_minor": 5
}
